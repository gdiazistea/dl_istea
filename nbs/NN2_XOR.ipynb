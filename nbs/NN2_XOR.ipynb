{
  "nbformat": 4,
  "nbformat_minor": 0,
  "metadata": {
    "colab": {
      "provenance": []
    },
    "kernelspec": {
      "name": "python3",
      "display_name": "Python 3"
    },
    "language_info": {
      "name": "python"
    }
  },
  "cells": [
    {
      "cell_type": "code",
      "execution_count": null,
      "metadata": {
        "id": "l2qefJ-nl33n"
      },
      "outputs": [],
      "source": [
        "import numpy as np\n",
        "import tensorflow as tf\n",
        "from tensorflow.keras.models import Sequential\n",
        "from tensorflow.keras.layers import Dense, Input\n",
        "import matplotlib.pyplot as plt"
      ]
    },
    {
      "cell_type": "code",
      "source": [
        "# Datos de entrada para el problema XOR\n",
        "X = np.array([[0, 0],\n",
        "              [0, 1],\n",
        "              [1, 0],\n",
        "              [1, 1]], dtype=np.float32)\n",
        "\n",
        "# Datos de salida para el problema XOR\n",
        "y = np.array([[0], [1], [1], [0]], dtype=np.float32)"
      ],
      "metadata": {
        "id": "XzVpSqoZl8nC"
      },
      "execution_count": null,
      "outputs": []
    },
    {
      "cell_type": "code",
      "source": [
        "# Crear el modelo\n",
        "model = Sequential([\n",
        "    Input(shape=(2,)),\n",
        "    Dense(units=2, activation='sigmoid'),\n",
        "    Dense(units=1, activation='sigmoid')\n",
        "])\n",
        "model.compile(optimizer=tf.keras.optimizers.Adam(learning_rate=0.02),\n",
        "              loss='mean_squared_error',\n",
        "              metrics=['mse', 'binary_accuracy'])\n",
        "model.summary()"
      ],
      "metadata": {
        "id": "Ls8dyQvjmLNZ"
      },
      "execution_count": null,
      "outputs": []
    },
    {
      "cell_type": "code",
      "source": [
        "# Entrenar el modelo\n",
        "history = model.fit(X, y, epochs=500, verbose=0)"
      ],
      "metadata": {
        "id": "F8lhhr-vmNKL"
      },
      "execution_count": null,
      "outputs": []
    },
    {
      "cell_type": "code",
      "source": [
        "# Graficar la pérdida durante el entrenamiento\n",
        "plt.figure(figsize=(12, 4))\n",
        "\n",
        "plt.subplot(1, 2, 1)\n",
        "plt.plot(history.history['loss'])\n",
        "plt.title('Pérdida durante el entrenamiento')\n",
        "plt.xlabel('Épocas')\n",
        "plt.ylabel('Pérdida')\n",
        "\n",
        "plt.subplot(1, 2, 2)\n",
        "plt.plot(history.history['binary_accuracy'])\n",
        "plt.title('Precisión durante el entrenamiento')\n",
        "plt.xlabel('Épocas')\n",
        "plt.ylabel('Precisión')\n",
        "\n",
        "plt.tight_layout()\n",
        "plt.show()"
      ],
      "metadata": {
        "id": "-UXNlGwMmZdA"
      },
      "execution_count": null,
      "outputs": []
    },
    {
      "cell_type": "code",
      "source": [
        "# Realizar predicciones\n",
        "predictions = model.predict(X)\n",
        "print(\"\\nPredicciones:\")\n",
        "for i, pred in enumerate(predictions):\n",
        "    value = 0 if pred[0] <= 0.5 else 1\n",
        "    print(f\"Entrada: {X[i]} -> Predicción: {pred[0]:.4f} -> {value}\")"
      ],
      "metadata": {
        "id": "oasq5FKP6S2Y"
      },
      "execution_count": null,
      "outputs": []
    },
    {
      "cell_type": "code",
      "source": [],
      "metadata": {
        "id": "1XJPV-QcvUDh"
      },
      "execution_count": null,
      "outputs": []
    }
  ]
}